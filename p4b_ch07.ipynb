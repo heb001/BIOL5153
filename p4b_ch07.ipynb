{
 "cells": [
  {
   "cell_type": "code",
   "execution_count": 2,
   "metadata": {},
   "outputs": [
    {
     "name": "stdout",
     "output_type": "stream",
     "text": [
      "\\t\\n\n"
     ]
    }
   ],
   "source": [
    "#Chapter 7: Regular Expressions\n",
    "\n",
    "#DNA and protein sequences can be thought of as strings\n",
    "    #within these sequences we can look for patterns\n",
    "        #protein domains, DNA TF binding motifs, restriction enzyme\n",
    "            #cut sites, PCR primers, runs of mononucleotides\n",
    "    \n",
    "            #search for a fixed set of characters - more flexibility may be required\n",
    "\n",
    "#Modules in Python\n",
    "    #module: collection of specialized functions and data types\n",
    "        #Python does not make modules automatically available in a new program\n",
    "        #load modules with an \"import\" statement\n",
    "\n",
    "#module that uses regular expression tools = \"re\"\n",
    "import re\n",
    "    #place load statement at the top of the program\n",
    "\n",
    "#to use a tool from this module -- prefix it with the module name\n",
    "    #regular expression search function\n",
    "#re.search(pattern, string)\n",
    "\n",
    "#if you forget to import the module you will receive a \"NameError\" when \n",
    "    #you call the function\n",
    "    \n",
    "#Raw Strings\n",
    "    #putting the letter \"r\" immdeiately before the opening quotation mark and \n",
    "        #adding any special characters inside the string to be ignored\n",
    "\n",
    "print(r\"\\t\\n\")\n",
    "\n",
    "#r = raw = string where special characters are ignored\n",
    "    #NOTE: r goes outside of quotation marks and is not part of the string\n",
    "    #output will be what is in \"\""
   ]
  },
  {
   "cell_type": "code",
   "execution_count": 4,
   "metadata": {},
   "outputs": [
    {
     "name": "stdout",
     "output_type": "stream",
     "text": [
      "restriction site found!\n"
     ]
    }
   ],
   "source": [
    "#Searching for a pattern in a string\n",
    "#re.search: T/F fxn that determines whether or not a pattern appears\n",
    "    #somewhere in a string\n",
    "    #takes 2 arguments: pattern you want to search for, string you want to\n",
    "        #search in\n",
    "\n",
    "import re\n",
    "\n",
    "#Ex. search for EcoRI restriction site in DNA sequence\n",
    "dna = \"ATCGCGAATTCAC\"\n",
    "if re.search(r\"GAATTC\", dna):\n",
    "    print(\"restriction site found!\")\n",
    "    \n",
    "#Used raw notation for the pattern, but it is not necessary as it does not \n",
    "    #contain any special characters\n",
    "\n",
    "#ALTERNATION Ex. with AvaII motif that cuts at two different sites\n",
    "\n",
    "dna = \"ATCGCGAATTCAC\"\n",
    "if re.search(r\"GGACC\", dna) or re.search(r\"GGTCC\", dna):\n",
    "    print(\"restriction site found!\")\n",
    "\n",
    "#OR\n",
    "\n",
    "if re.search(r\"GG(A|T)CC\", dna):\n",
    "    print(\"restriction site found!\")\n",
    "    \n",
    "#CHARACTER GROUPS Ex. BisI restriction enzyme\n",
    "    #GC(A|T|G|C)GC will match GCAGC, GCTGC, and GCCGC\n",
    "\n",
    "if re.search(r\"GC(A|T|G|C)GC\", dna):\n",
    "    print(\"restriction site found!\")\n",
    "\n",
    "#Note: if you want a character to match any character in the input use a \".\"\n",
    "    #GC.GC would match all four possibilities listed above\n",
    "        #even characters that are not DNA bases (ie. number, special character, etc.)\n",
    "        \n",
    "#Note: to specify a character you don't want to match, put a \"^\" at the start \n",
    "    #of a character group to negate it and match any character that isn't in the group\n",
    "        #Ex. [^XYZ]"
   ]
  },
  {
   "cell_type": "code",
   "execution_count": 5,
   "metadata": {
    "collapsed": true
   },
   "outputs": [],
   "source": [
    "#QUANTIFIERS -- allow us to describe variation in the # of times a section\n",
    "    #of a pattern is repeated\n",
    "    \n",
    "    # \"?\" following a character = character is optional and can match either\n",
    "        #zero or one times\n",
    "        #Ex. \"GAT?C\" = T is optional --> pattern can match GATC or GAC\n",
    "    #apply the \"?\" to a group with ()\n",
    "        #GGG(AAA)?TTT --> GGGAAATTT or GGGTTT\n",
    "    \n",
    "    # \"+\" following a character group = character/group must be present but \n",
    "        #can be repeated any number of times (one or more)\n",
    "            #Ex. \"GGGA+TTT\" will match any number of A's between three G's and 2 T's\n",
    "            \n",
    "    # \"*\" following character group = character/group is optional and can be repeated\n",
    "        #will match zero or more times\n",
    "        \n",
    "    #use {} to specify a specific number of repeats\n",
    "        #following the character or group with a signle number inside {} will\n",
    "            #match exactly that number of repeats\n",
    "                #Ex. GA{5}T --> GAAAAAT\n",
    "        #pair of #'s separated with a comma specifies a range og repeats\n",
    "            #Ex. GA{2,4}T --> GAAT, GAAAT, or GAAAAT\n",
    "            \n",
    "#POSITIONS - represents postitions in the input string\n",
    "\n",
    "# \"^\" = start of the string\n",
    "# \"$\" = end of the string\n",
    "\n",
    "#Ex. ^AAA will match AAATTT but not GGGAAATTT\n",
    "#Ex. GGG$ will match AAAGGG but not AAAGGGCCC\n",
    "\n",
    "#COMBINING - use quantifiers, alternations and character groups together to\n",
    "    #specify incredibly flexible patterns\n",
    "    \n",
    "#Ex. ^ATG[ATGC]{30,1000}A{5,10}$\n",
    "    #pattern will match\n",
    "        #an ATG start codon at the beginning of the sequence\n",
    "        #followed by 30-1000 bases that could be A,T,C, or G\n",
    "        #followed by a poly-A tail between 5-10 bases at the end\n",
    "        \n",
    "#re.search vs. re.match\n",
    "    #re.search: identify a pattern occurring anywhere in the string\n",
    "    #re.match: identify a pattern only if it matches the entire string"
   ]
  },
  {
   "cell_type": "code",
   "execution_count": 6,
   "metadata": {},
   "outputs": [
    {
     "name": "stdout",
     "output_type": "stream",
     "text": [
      "GACGTAC\n",
      "entire match: GACGTACGTAC\n",
      "first bit: CGT\n",
      "second bit: GT\n"
     ]
    }
   ],
   "source": [
    "#Extracting the part of the string that matched\n",
    "\n",
    "#to find what part of the string matched a pattern, we need to store the\n",
    "    #result using re.search, then use the \"group\" method on the stored obj.\n",
    "    \n",
    "#stored objects represent the results of a re search rather than a simple\n",
    "    #number or string\n",
    "\n",
    "#methods to get data out of a match object\n",
    "   #group - get the portion of the input string that matched the pattern\n",
    "    \n",
    "dna = \"ATGACGTACGTACGACTG\"\n",
    "# store the match object in the variable m\n",
    "m = re.search(r\"GA[ATGC]{3}AC\", dna)\n",
    "print(m.group())\n",
    "\n",
    "#search the dna sequence for GA (followed by 3 bases) and AC\n",
    "    #group method allows us to see the part of the DNA seq that matched\n",
    "    \n",
    "#Alternatively, you can CAPTURE a pattern by surrounding the part you\n",
    "    #want to extract with ()\n",
    "\n",
    "dna = \"ATGACGTACGTACGACTG\"\n",
    "# store the match object in the variable m\n",
    "m = re.search(r\"GA([ATGC]{3})AC([ATGC]{2})AC\", dna)\n",
    "print(\"entire match: \" + m.group())\n",
    "print(\"first bit: \" + m.group(1))\n",
    "print(\"second bit: \" + m.group(2))\n",
    "\n",
    "#output will show that 3 bases in first variable are CGT and the 2 bases\n",
    "    #in the second variable are GT"
   ]
  },
  {
   "cell_type": "code",
   "execution_count": 7,
   "metadata": {},
   "outputs": [
    {
     "name": "stdout",
     "output_type": "stream",
     "text": [
      "start: 2\n",
      "end: 13\n",
      "start: 2\n",
      "end: 13\n",
      "group one start: 4\n",
      "group one end: 7\n",
      "group two start: 9\n",
      "group two end: 11\n"
     ]
    }
   ],
   "source": [
    "#Getting the position of a match\n",
    "\n",
    "#match object holds info about the content and position of the match\n",
    "    # \"start\" and \"end\" methods get the positions of the start and end of \n",
    "        #the pattern on the sequence\n",
    "        \n",
    "dna = \"ATGACGTACGTACGACTG\"\n",
    "m = re.search(r\"GA([ATGC]{3})AC([ATGC]{2})AC\", dna)\n",
    "print(\"start: \" + str(m.start()))\n",
    "print(\"end: \" + str(m.end()))\n",
    "\n",
    "#Remember, start counting from zero\n",
    "#Get the start and end positions of individual groups by supplying a number\n",
    "    #as the argument to start and end\n",
    "    \n",
    "dna = \"ATGACGTACGTACGACTG\"\n",
    "m = re.search(r\"GA([ATGC]{3})AC([ATGC]{2})AC\", dna)\n",
    "print(\"start: \" + str(m.start()))\n",
    "print(\"end: \" + str(m.end()))\n",
    "print(\"group one start: \" + str(m.start(1)))\n",
    "print(\"group one end: \" + str(m.end(1)))\n",
    "print(\"group two start: \" + str(m.start(2)))\n",
    "print(\"group two end: \" + str(m.end(2)))"
   ]
  },
  {
   "cell_type": "code",
   "execution_count": 8,
   "metadata": {},
   "outputs": [
    {
     "name": "stdout",
     "output_type": "stream",
     "text": [
      "['ACT', 'GCAT', 'GCTACGT', 'ACGAT', 'CGA', 'TCG']\n"
     ]
    }
   ],
   "source": [
    "#Splitting a string using a regular expression\n",
    "\n",
    "#re module has a split function that takes a re pattern as an argument\n",
    "    #first argument: pattern\n",
    "    #second argument: string to be split\n",
    "\n",
    "#Ex. split the string wherever you see a base that is not A,T,C, or G:\n",
    "\n",
    "dna = \"ACTNGCATRGCTACGTYACGATSCGAWTCG\"\n",
    "runs = re.split(r\"[^ATGC]\", dna)\n",
    "print(runs)\n",
    "\n",
    "#Remember: \"^\" at the start of a character group negates it\n",
    "    #return value: list of strings"
   ]
  },
  {
   "cell_type": "code",
   "execution_count": 9,
   "metadata": {},
   "outputs": [
    {
     "name": "stdout",
     "output_type": "stream",
     "text": [
      "['ATTATAT', 'AAATTATA']\n",
      "AT rich region from 5 to 12\n",
      "AT rich region from 18 to 26\n"
     ]
    }
   ],
   "source": [
    "#Finding multiple matches\n",
    "\n",
    "# re.findall - returns a list of all matches of a pattern in a string\n",
    "    #first argument: pattern\n",
    "    #second argument: string\n",
    "\n",
    "dna = \"ACTGCATTATATCGTACGAAATTATACGCGCG\"\n",
    "runs = re.findall(r\"[AT]{4,100}\", dna)\n",
    "print(runs)\n",
    "\n",
    "#Note: findall method is not a match object but rather a list of strings\n",
    "    #therefore, no way to extract the positions\n",
    "    \n",
    "# re.finditer - returns a sequence of match objects -- must use the \n",
    "    #return value in a loop\n",
    "    \n",
    "dna = \"ACTGCATTATATCGTACGAAATTATACGCGCG\"\n",
    "runs = re.finditer(r\"[AT]{3,100}\", dna)\n",
    "for match in runs:\n",
    "    run_start = match.start()\n",
    "    run_end = match.end()\n",
    "    print(\"AT rich region from \" + str(run_start) + \" to \" + str(run_end))\n",
    "    \n",
    "# finditer grants more flexibility than findall"
   ]
  },
  {
   "cell_type": "code",
   "execution_count": null,
   "metadata": {
    "collapsed": true
   },
   "outputs": [],
   "source": []
  }
 ],
 "metadata": {
  "kernelspec": {
   "display_name": "Python 2",
   "language": "python",
   "name": "python2"
  },
  "language_info": {
   "codemirror_mode": {
    "name": "ipython",
    "version": 2
   },
   "file_extension": ".py",
   "mimetype": "text/x-python",
   "name": "python",
   "nbconvert_exporter": "python",
   "pygments_lexer": "ipython2",
   "version": "2.7.14"
  }
 },
 "nbformat": 4,
 "nbformat_minor": 2
}
