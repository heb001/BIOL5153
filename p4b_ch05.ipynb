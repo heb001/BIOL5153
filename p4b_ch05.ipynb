{
 "cells": [
  {
   "cell_type": "code",
   "execution_count": 1,
   "metadata": {},
   "outputs": [
    {
     "name": "stdout",
     "output_type": "stream",
     "text": [
      "AT content is 0.5\n"
     ]
    }
   ],
   "source": [
    "#Chapter 5: Writing Our Own Functions\n",
    "\n",
    "#Defining A Function\n",
    "    #determine what the inputs (number and types of function argumetns),\n",
    "        #and outputs (type of return value) will be from the function\n",
    "#get_at_content fxn: input (DNA seq = string), output (decimal number)\n",
    "\n",
    "#include for Python2\n",
    "from __future__ import division\n",
    "\n",
    "def get_at_content(dna):\n",
    "    length = len(dna)\n",
    "    a_count = dna.count('A')\n",
    "    t_count = dna.count('T')\n",
    "    at_content = (a_count + t_count) / length\n",
    "    return at_content\n",
    "#def = define; followed by the name of the fxn, name of the argument variable in()\n",
    "    #end first line with a colon, indent following lines\n",
    "    #last line = \"return\" at_content that was calculated in the fxn\n",
    "\n",
    "#defining and running/calling a fxn are two separate things \n",
    "\n",
    "#Execute/call the function by:\n",
    "get_at_content(\"ATGACTGGACCA\")\n",
    "    #caveat: AT content will disappear unless stored as a variable\n",
    "\n",
    "at_content = get_at_content(\"ATGACTGGACCA\")\n",
    "\n",
    "#use it directly with a print statement:\n",
    "print(\"AT content is \" + str(get_at_content(\"ATGACTGGACCA\")))\n",
    "\n",
    "#Note: the argument variable (dna) does not hold any value when the\n",
    "    #function is defined -- it holds whatever value is given when the \n",
    "        #fxn is called -- similar to loop variables\n",
    "\n",
    "#Variables created as part of the fxn only exist within the fxn and\n",
    "    #cannot be accessed outside\n"
   ]
  },
  {
   "cell_type": "code",
   "execution_count": 3,
   "metadata": {},
   "outputs": [
    {
     "name": "stdout",
     "output_type": "stream",
     "text": [
      "0.45\n",
      "0.53\n",
      "0.52\n",
      "0.5\n",
      "0.53\n",
      "0.529\n"
     ]
    }
   ],
   "source": [
    "#Calling and Improving our Function\n",
    "\n",
    "def get_at_content(dna, sig_figs):\n",
    "    length = len(dna)\n",
    "    a_count = dna.upper().count('A')\n",
    "    t_count = dna.upper().count('T')\n",
    "    at_content = (a_count + t_count) / length\n",
    "    return round(at_content, sig_figs)\n",
    "\n",
    "#variable my_at_content stores calculated at content value\n",
    "my_at_content = get_at_content(\"ATGCGCGATCGATCGAATCG\", 2)\n",
    "print(str(my_at_content))\n",
    "print(get_at_content(\"ATGCATGCAACTGTAGC\", 2))\n",
    "print(get_at_content(\"aactgtagctagctagcagcgta\", 2))\n",
    "\n",
    "test_dna = \"ATGCATGCAACTGTAGC\"\n",
    "print(get_at_content(test_dna, 1))\n",
    "print(get_at_content(test_dna, 2))\n",
    "print(get_at_content(test_dna, 3))\n",
    "\n",
    "#Python round fxn takes two arguments (number we want to round and number of sig figs)"
   ]
  },
  {
   "cell_type": "code",
   "execution_count": 4,
   "metadata": {
    "collapsed": true
   },
   "outputs": [],
   "source": [
    "#Encapsulation with Functions\n",
    "    #you can change the function definition without having to make changes\n",
    "        #to the code that uses the function\n",
    "\n",
    "#Encapsulation = dividing a complex program into smaller parts that can\n",
    "    #be worked on independently of one another\n",
    "    \n",
    "#Functions Don't Always Have to Take and Argument\n",
    "    #you can define a function without arguments -- but they aren't \n",
    "        #very useful\n",
    "\n",
    "def get_a_number():\n",
    "    return 42\n",
    "\n",
    "#Functions Don't Always Have to Return a Value\n",
    "    #ie. writing a function that calculates at_content and prints it to the screen\n",
    "    #this results in a function that is less flexible\n",
    "    #write fxns so that they accomplish one job, not two"
   ]
  },
  {
   "cell_type": "code",
   "execution_count": 5,
   "metadata": {},
   "outputs": [
    {
     "data": {
      "text/plain": [
       "0.45"
      ]
     },
     "execution_count": 5,
     "metadata": {},
     "output_type": "execute_result"
    }
   ],
   "source": [
    "#Functions can be called with named arguments\n",
    "\n",
    "#Must know the return value & type as well as the order of arguments.\n",
    "#Keyword arguments: calls arguments by supplying a list of argument\n",
    "    #variable names & values joined by equal signs\n",
    "        #rather than giving a list of arguments in ()\n",
    "\n",
    "get_at_content(dna=\"ATCGTGACTCG\", sig_figs=2)\n",
    "\n",
    "    #Advantages: clear, does not rely on order of arguments, can be mixed & matched\n",
    "#Keyword arguments are useful for fxns and methods that have multiple arguments"
   ]
  },
  {
   "cell_type": "code",
   "execution_count": 6,
   "metadata": {},
   "outputs": [
    {
     "data": {
      "text/plain": [
       "0.4545"
      ]
     },
     "execution_count": 6,
     "metadata": {},
     "output_type": "execute_result"
    }
   ],
   "source": [
    "#Function arguments can have defaults\n",
    "\n",
    "#Recall: open function takes two arguments -- a file name and a mode string\n",
    "    #if you call it with just the file name it uses a default value for the mode string\n",
    "\n",
    "#version of get_at_content function where default sig_figs is 2\n",
    "\n",
    "def get_at_content(dna, sig_figs=2):\n",
    "    length = len(dna)\n",
    "    a_count = dna.upper().count('A')\n",
    "    t_count = dna.upper().count('T')\n",
    "    at_content = (a_count + t_count) / length\n",
    "    return round(at_content, sig_figs)\n",
    "\n",
    "get_at_content(\"ATCGTGACTCG\")\n",
    "get_at_content(\"ATCGTGACTCG\", 3)\n",
    "get_at_content(\"ATCGTGACTCG\", sig_figs=4)\n",
    "\n",
    "#Fxn argument defaults allow for flexible functions that can have multiple arguments\n",
    "    #usefule for fxns where some of the options are used infrequently"
   ]
  },
  {
   "cell_type": "code",
   "execution_count": 8,
   "metadata": {},
   "outputs": [
    {
     "ename": "AssertionError",
     "evalue": "",
     "output_type": "error",
     "traceback": [
      "\u001b[0;31m---------------------------------------------------------------------------\u001b[0m",
      "\u001b[0;31mAssertionError\u001b[0m                            Traceback (most recent call last)",
      "\u001b[0;32m<ipython-input-8-8ff940b0c14f>\u001b[0m in \u001b[0;36m<module>\u001b[0;34m()\u001b[0m\n\u001b[1;32m     15\u001b[0m \u001b[0;34m\u001b[0m\u001b[0m\n\u001b[1;32m     16\u001b[0m \u001b[0;31m#unusual inputs == \"N\" in the dna sequence:\u001b[0m\u001b[0;34m\u001b[0m\u001b[0;34m\u001b[0m\u001b[0m\n\u001b[0;32m---> 17\u001b[0;31m \u001b[0;32massert\u001b[0m \u001b[0mget_at_content\u001b[0m\u001b[0;34m(\u001b[0m\u001b[0;34m\"ATGCNNNNNNNNN\"\u001b[0m\u001b[0;34m)\u001b[0m \u001b[0;34m==\u001b[0m \u001b[0;36m0.5\u001b[0m\u001b[0;34m\u001b[0m\u001b[0m\n\u001b[0m",
      "\u001b[0;31mAssertionError\u001b[0m: "
     ]
    }
   ],
   "source": [
    "#Testing Functions\n",
    "\n",
    "#\"ASSERT\" = built-in python tool for checking code\n",
    "    #assert, followed by call to the fxn, ==, then the expected result\n",
    "\n",
    "assert get_at_content(\"ATGC\") == 0.5\n",
    "\n",
    "#if the assertion is false the program will stop and you will get an\n",
    "    #AssertionError\n",
    "\n",
    "#Benefits: provide a means to check if the fxn is working and can help\n",
    "    #track potential errors in the program, allows for modification to a \n",
    "        #fxn and ensure no errors were introduced, form of documentation,\n",
    "            # & can be used to test behavior of fxn for unusual inputs\n",
    "    \n",
    "#unusual inputs == \"N\" in the dna sequence:\n",
    "assert get_at_content(\"ATGCNNNNNNNNN\") == 0.5"
   ]
  },
  {
   "cell_type": "code",
   "execution_count": 9,
   "metadata": {
    "collapsed": true
   },
   "outputs": [],
   "source": [
    "#assertion will fail unless get_at_content fxn is modified to:\n",
    "\n",
    "def get_at_content(dna, sig_figs=2):\n",
    "    dna = dna.replace('N', '')\n",
    "    length = len(dna)\n",
    "    a_count = dna.upper().count('A')\n",
    "    t_count = dna.upper().count('T')\n",
    "    at_content = (a_count + t_count) / length\n",
    "    return round(at_content, sig_figs)\n",
    "\n",
    "#Test assertion once more\n",
    "assert get_at_content(\"ATGCNNNNNNNNN\") == 0.5\n",
    "    #should now pass\n",
    "\n",
    "#Can group a collection of assertions for a particular function together\n",
    "    #to test for the correct behavior on different types of input\n",
    "\n",
    "assert get_at_content(\"A\") == 1\n",
    "assert get_at_content(\"G\") == 0\n",
    "assert get_at_content(\"ATGC\") == 0.5\n",
    "assert get_at_content(\"AGG\") == 0.33\n",
    "assert get_at_content(\"AGG\", 1) == 0.3\n",
    "assert get_at_content(\"AGG\", 5) == 0.33333"
   ]
  },
  {
   "cell_type": "code",
   "execution_count": null,
   "metadata": {
    "collapsed": true
   },
   "outputs": [],
   "source": []
  }
 ],
 "metadata": {
  "kernelspec": {
   "display_name": "Python 2",
   "language": "python",
   "name": "python2"
  },
  "language_info": {
   "codemirror_mode": {
    "name": "ipython",
    "version": 2
   },
   "file_extension": ".py",
   "mimetype": "text/x-python",
   "name": "python",
   "nbconvert_exporter": "python",
   "pygments_lexer": "ipython2",
   "version": "2.7.14"
  }
 },
 "nbformat": 4,
 "nbformat_minor": 2
}
