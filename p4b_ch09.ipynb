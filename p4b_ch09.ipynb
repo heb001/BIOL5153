{
 "cells": [
  {
   "cell_type": "code",
   "execution_count": 1,
   "metadata": {
    "collapsed": true
   },
   "outputs": [],
   "source": [
    "#Chapter 9: Files, programs and user input\n",
    "#Basic file manipulation\n",
    "    #rename an existing file with os.rename function\n",
    "        #two arguments: (\"old name\", \"new name\")\n",
    "        #assuming the file is in the same folder as python script\n",
    "            #if not, provide path\n",
    "import os\n",
    "os.rename(\"out.txt\", \"new_out.txt\")\n",
    "\n",
    "#move and rename a file in one step\n",
    "    #os.rename(\"/home/Users/heb001/Desktop/bio-project/Jupyter_Practice_Notebooks/new_out.txt\", \"/home/Users/heb001/Desktop/new_out2.txt\")\n",
    "\n",
    "#note os.rename works on folders as well\n",
    "    #os.rename(\"/home/heb001/old_folder\", \"/home/heb001/new_folder\")\n",
    "\n",
    "#make a new folder with os.mkdir function\n",
    "    #os.mkdir(\"/home/heb001/Desktop/python\")\n",
    "\n",
    "#create multiple directories with os.mkdirs function\n",
    "    #os.mkdirs(\"/a/long/path/with/lots/of/folders\")\n",
    "\n",
    "#copy or save a folder with shutil.copy\n",
    "    #shutil.copy(\"/home/heb001/original.txt\", \"/home/heb001/copy.txt\")\n",
    "\n",
    "#os.path.exists: tests whether a file or folder exists\n",
    "    #if os.path.exists(\"/home/heb001/out.txt\"):\n",
    "        #print(\"You have mail!\")\n",
    "\n",
    "\n",
    "#Deleting files and folders\n",
    "\n",
    "#delete a single file with os.remove\n",
    "    #os.remove(\"/home/heb001/unwanted_file.txt\")\n",
    "\n",
    "#delete an empty folder with os.rmdir\n",
    "    #os.rmdir(\"/home/heb001/empty_folder\")\n",
    "\n",
    "#delete the folder and all of its contents use shutil.rmtree\n",
    "    #shutil.rmtree(\"home/heb001/full_folder\")\n",
    "\n",
    "\n",
    "#Listing the folder contents\n",
    "    #os.listdir returns a list of files and folders -- use the string \".\" for the path.\n",
    "    #for file_name in os.listdir(\".\"):\n",
    "        #print(\"one file name is \" + file_name)\n",
    "        \n",
    "#Running a program\n",
    "#Functions for running an external program reside in the SUBPROCESS module\n",
    "    #use subprocess.call function -- takes a single string argument containing the path to the executable\n",
    "    #import subprocess\n",
    "    #subprocess.call(\"/bin/date\")\n",
    "        #output from the linux date program printed to the screen\n",
    "\n",
    "#Saving program output - store output in variable to use later\n",
    "#subprocess.check_output -- uses same argument as subprocess.call\n",
    "\n",
    "#Interactive user input\n",
    "#input function takes a single argument - prompt displayed to user and returns the value typed in a string\n",
    "#accession = input(\"Enter the accession name\")\n",
    "# do something with the accession variable"
   ]
  },
  {
   "cell_type": "code",
   "execution_count": null,
   "metadata": {
    "collapsed": true
   },
   "outputs": [],
   "source": []
  }
 ],
 "metadata": {
  "kernelspec": {
   "display_name": "Python 2",
   "language": "python",
   "name": "python2"
  },
  "language_info": {
   "codemirror_mode": {
    "name": "ipython",
    "version": 2
   },
   "file_extension": ".py",
   "mimetype": "text/x-python",
   "name": "python",
   "nbconvert_exporter": "python",
   "pygments_lexer": "ipython2",
   "version": "2.7.14"
  }
 },
 "nbformat": 4,
 "nbformat_minor": 2
}
