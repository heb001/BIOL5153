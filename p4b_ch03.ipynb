{
 "cells": [
  {
   "cell_type": "code",
   "execution_count": 1,
   "metadata": {},
   "outputs": [
    {
     "name": "stdout",
     "output_type": "stream",
     "text": [
      "ACTGTACGTGCACTGATC\n",
      "\n"
     ]
    }
   ],
   "source": [
    "#Using open to read a file\n",
    "my_file = open(\"dna.txt\")\n",
    "file_contents = my_file.read()\n",
    "print(file_contents)"
   ]
  },
  {
   "cell_type": "code",
   "execution_count": 2,
   "metadata": {
    "collapsed": true
   },
   "outputs": [],
   "source": [
    "#Files, contents and file names\n",
    "my_file_name = \"dna.txt\"\n",
    "my_file = open(my_file_name)\n",
    "my_file_contents = my_file.read()"
   ]
  },
  {
   "cell_type": "code",
   "execution_count": 3,
   "metadata": {},
   "outputs": [
    {
     "name": "stdout",
     "output_type": "stream",
     "text": [
      "sequence is ACTGTACGTGCACTGATC\n",
      " and length is 19\n"
     ]
    }
   ],
   "source": [
    "#open the file dna.txt\n",
    "my_file = open(\"dna.txt\")\n",
    "\n",
    "#read contencts of t=my_file\n",
    "my_dna = my_file.read()\n",
    "\n",
    "#calculate length of sequence in dna.txt\n",
    "dna_length = len(my_dna)\n",
    "\n",
    "#print the output\n",
    "print(\"sequence is \" + my_dna + \" and length is \" + str(dna_length))"
   ]
  },
  {
   "cell_type": "code",
   "execution_count": 4,
   "metadata": {},
   "outputs": [
    {
     "name": "stdout",
     "output_type": "stream",
     "text": [
      "sequence is ACTGTACGTGCACTGATC and length is 18\n"
     ]
    }
   ],
   "source": [
    "#Python includes a new line character '\\n' at the end of the dna.txt file seq\n",
    "#remove the \\n with rstrip argument\n",
    "\n",
    "my_file = open(\"dna.txt\")\n",
    "my_file_contents = my_file.read()\n",
    "\n",
    "#remove the newline from the end of the file contents\n",
    "my_dna = my_file_contents.rstrip(\"\\n\")\n",
    "dna_length = len(my_dna)\n",
    "print(\"sequence is \" + my_dna + \" and length is \" + str(dna_length))"
   ]
  },
  {
   "cell_type": "code",
   "execution_count": 5,
   "metadata": {},
   "outputs": [
    {
     "name": "stdout",
     "output_type": "stream",
     "text": [
      "sequence is ACTGTACGTGCACTGATC and length is 18\n"
     ]
    }
   ],
   "source": [
    "#You can read the contents and remove newline in one step\n",
    "my_file = open(\"dna.txt\")\n",
    "my_dna = my_file.read().rstrip(\"\\n\")\n",
    "dna_length = len(my_dna)\n",
    "print(\"sequence is \" + my_dna + \" and length is \" + str(dna_length))"
   ]
  },
  {
   "cell_type": "code",
   "execution_count": 6,
   "metadata": {
    "collapsed": true
   },
   "outputs": [],
   "source": [
    "#Opening files for writing\n",
    "my_file = open(\"out.txt\", \"w\")\n",
    "my_file.write(\"Hello world\")\n",
    "\n",
    "#No output will go to the screen -- check the txt file for changes"
   ]
  },
  {
   "cell_type": "code",
   "execution_count": 7,
   "metadata": {
    "collapsed": true
   },
   "outputs": [],
   "source": [
    "#Use any method or function to return a string in out.txt\n",
    "my_file = open(\"out.txt\", \"w\")\n",
    "my_file.write(\"abc\" + \"def\")\n",
    "\n",
    "# write \"8\"\n",
    "my_file.write(str(len('AGTGCTAG')))\n",
    "\n",
    "#write \"TTGC\"\n",
    "my_file.write(\"ATGC\".replace('A', 'T'))\n",
    "\n",
    "#write \"atcg\"\n",
    "my_file.write(\"ATGC\".lower())"
   ]
  },
  {
   "cell_type": "code",
   "execution_count": 8,
   "metadata": {
    "collapsed": true
   },
   "outputs": [],
   "source": [
    "#Closing files -- close [method not a function]\n",
    "    #takes no arguments () and returns no value\n",
    "\n",
    "my_file = open(\"out.txt\", \"w\")\n",
    "my_file.write(\"Hello world!\")\n",
    "\n",
    "#remember to close the file\n",
    "my_file.close()"
   ]
  },
  {
   "cell_type": "code",
   "execution_count": 9,
   "metadata": {},
   "outputs": [
    {
     "name": "stdout",
     "output_type": "stream",
     "text": [
      "Hello world!\n"
     ]
    }
   ],
   "source": [
    "#Paths and folders -- must provide the full path to open files outside of your current folder\n",
    "my_file = open(\"/Users/heb001/Desktop/bio-project/out.txt\")\n",
    "my_file_contents = my_file.read()\n",
    "print(my_file_contents)"
   ]
  },
  {
   "cell_type": "code",
   "execution_count": null,
   "metadata": {
    "collapsed": true
   },
   "outputs": [],
   "source": []
  }
 ],
 "metadata": {
  "kernelspec": {
   "display_name": "Python 2",
   "language": "python",
   "name": "python2"
  },
  "language_info": {
   "codemirror_mode": {
    "name": "ipython",
    "version": 2
   },
   "file_extension": ".py",
   "mimetype": "text/x-python",
   "name": "python",
   "nbconvert_exporter": "python",
   "pygments_lexer": "ipython2",
   "version": "2.7.14"
  }
 },
 "nbformat": 4,
 "nbformat_minor": 2
}
