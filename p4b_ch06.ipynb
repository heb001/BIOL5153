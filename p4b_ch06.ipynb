{
 "cells": [
  {
   "cell_type": "code",
   "execution_count": 1,
   "metadata": {},
   "outputs": [
    {
     "name": "stdout",
     "output_type": "stream",
     "text": [
      "False\n",
      "False\n",
      "True\n",
      "False\n",
      "True\n",
      "True\n",
      "False\n",
      "True\n",
      "False\n",
      "True\n"
     ]
    }
   ],
   "source": [
    "#Chapter 6: Conditional Tests\n",
    "\n",
    "#Programs need to make decisions\n",
    "    #examine part of the data and decide what to do with it\n",
    "        #CONDITIONAL STATEMENTS: if, then\n",
    "\n",
    "#Conditions, True and False\n",
    "    #condition: code that can produce a T or F answer\n",
    "\n",
    "print(3 == 5)\n",
    "print(3 > 5)\n",
    "print(3 <=5)\n",
    "print(len(\"ATGC\") > 5)\n",
    "print(\"GAATTC\".count(\"T\") > 1)\n",
    "print(\"ATGCTT\".startswith(\"ATG\"))\n",
    "print(\"ATGCTT\".endswith(\"TTT\"))\n",
    "print(\"ATGCTT\".isupper())\n",
    "print(\"ATGCTT\".islower())\n",
    "print(\"V\" in [\"V\", \"W\", \"L\"])\n",
    "\n",
    "#output will line up each condition with its result\n",
    "    #special values that Python uses to represent T or F\n",
    "\n",
    "#what to include in conditions\n",
    "    # equals (represented by ==)\n",
    "    # greater & less than or equal to (>= and <=)\n",
    "    # not equal (!=)\n",
    "    # is a value in a list (in)\n",
    "    # are two objects the same (is)\n",
    "    # startswith method of strings"
   ]
  },
  {
   "cell_type": "code",
   "execution_count": 2,
   "metadata": {},
   "outputs": [
    {
     "name": "stdout",
     "output_type": "stream",
     "text": [
      "gene is highly expressed\n",
      "ab56\n",
      "bh84\n",
      "hv76\n",
      "ay93\n",
      "ap97\n",
      "bd72\n"
     ]
    }
   ],
   "source": [
    "# If statements\n",
    "\n",
    "#syntax: \"if\" followed by a condition, end line with \":\". Indent next \n",
    "    #line of code that will only be executed if condition is true\n",
    "\n",
    "expression_level = 125\n",
    "if expression_level > 100:\n",
    "    print(\"gene is highly expressed\")\n",
    "\n",
    "accs = ['ab56', 'bh84', 'hv76', 'ay93', 'ap97', 'bd72']\n",
    "for accession in accs:\n",
    "    if accession in accs:\n",
    "        print(accession)\n",
    "\n",
    "#Note: the line of code inside the if statement is indented twice\n",
    "    #once for the for loop and once for the if statement (\"nested\")"
   ]
  },
  {
   "cell_type": "code",
   "execution_count": 3,
   "metadata": {},
   "outputs": [
    {
     "name": "stdout",
     "output_type": "stream",
     "text": [
      "gene is highly expressed\n"
     ]
    }
   ],
   "source": [
    "# Else statements\n",
    "    #added after the end of the body of an if statement\n",
    "    #executed when the if statement is not executed\n",
    "\n",
    "expression_level = 125\n",
    "if expression_level > 100:\n",
    "    print(\"gene is highly expressed\")\n",
    "else:\n",
    "    print(\"gene is lowly expressed\")\n",
    "\n",
    "#can use if and else to split up a list of accession names into two different files\n",
    "\n",
    "#file1 = open(\"one.txt\", \"w\")\n",
    "#file2 = open(\"two.txt\", \"w\")\n",
    "#accs = ['ab56', 'bh84', 'hv76', 'ay93', 'ap97', 'bd72']\n",
    "#for accession in accs:\n",
    "    #if accession.startswith('a'):\n",
    "        #file1.write(accession + \"\\n\")\n",
    "    #else:\n",
    "        #file2.write(accession + \"\\n\")\n",
    "#Note: if and else statement will always be indented to the same level"
   ]
  },
  {
   "cell_type": "code",
   "execution_count": 4,
   "metadata": {
    "collapsed": true
   },
   "outputs": [],
   "source": [
    "# Elif statements\n",
    "    #a second if statement could be nested inside the else clause of \n",
    "        #the first if statement\n",
    "\n",
    "#for accession in accs:\n",
    "    #if accession.startswith('a'):\n",
    "        #file1.write(accession + \"\\n\")\n",
    "    #else:\n",
    "        #if accession.startswith('b'):\n",
    "            #file2.write(accession + \"\\n\")\n",
    "        #else:\n",
    "            #file3.write(accession + \"\\n\")\n",
    "            \n",
    "# Elif statement merges else abd if to rewrite above in a more elegant way\n",
    "\n",
    "#for accession in accs:\n",
    "    #if accession.startswith('a'):\n",
    "        #file1.write(accession + \"\\n\")\n",
    "    #elif accession.startswith('b'):\n",
    "        #file2.write(accession + \"\\n\")\n",
    "    #else:\n",
    "        #file3.write(accession + \"\\n\")"
   ]
  },
  {
   "cell_type": "code",
   "execution_count": 5,
   "metadata": {},
   "outputs": [
    {
     "name": "stdout",
     "output_type": "stream",
     "text": [
      "0\n",
      "1\n",
      "2\n",
      "3\n",
      "4\n",
      "5\n",
      "6\n",
      "7\n",
      "8\n",
      "9\n"
     ]
    }
   ],
   "source": [
    "# While loops\n",
    "    #conditions can be used to determine when to exit a loop\n",
    "    #while loop = runs until a certain condition is met\n",
    "\n",
    "count = 0\n",
    "while count<10:\n",
    "    print(count)\n",
    "    count = count + 1\n",
    "\n",
    "#not frequently used due to \"power\" of normal Python loops"
   ]
  },
  {
   "cell_type": "code",
   "execution_count": 6,
   "metadata": {},
   "outputs": [
    {
     "name": "stdout",
     "output_type": "stream",
     "text": [
      "ay93\n",
      "ab56\n",
      "bh84\n",
      "ay93\n",
      "ap97\n",
      "bd72\n",
      "bh84\n",
      "ay93\n",
      "ap97\n"
     ]
    }
   ],
   "source": [
    "# Building up complex conditions\n",
    "\n",
    "#join two conditions with \"and\" rather than using nested if statements\n",
    "\n",
    "accs = ['ab56', 'bh84', 'hv76', 'ay93', 'ap97', 'bd72']\n",
    "for accession in accs:\n",
    "    if accession.startswith('a') and accession.endswith('3'):\n",
    "        print(accession)\n",
    "        \n",
    "# \"or\" can also be used to join two conditions that will be true if\n",
    "    #either of the two conditions are true\n",
    "\n",
    "accs = ['ab56', 'bh84', 'hv76', 'ay93', 'ap97', 'bd72']\n",
    "for accession in accs:\n",
    "    if accession.startswith('a') or accession.startswith('b'):\n",
    "        print(accession)\n",
    "        \n",
    "#use both \"and\" & \"or\" in the same condition:\n",
    "\n",
    "accs = ['ab56', 'bh84', 'hv76', 'ay93', 'ap97', 'bd72']\n",
    "for acc in accs:\n",
    "    if (acc.startswith('a') or acc.startswith('b')) and acc.endswith('4'):\n",
    "        print(acc)\n",
    "        \n",
    "#Note: must include parentheses in above example to provide order\n",
    "\n",
    "#Negate a condition by prefixing it with \"not\" or \"don't\"\n",
    "\n",
    "accs = ['ab56', 'bh84', 'hv76', 'ay93', 'ap97', 'bd72']\n",
    "for acc in accs:\n",
    "    if acc.startswith('a') and not acc.endswith('6'):\n",
    "        print(acc)"
   ]
  },
  {
   "cell_type": "code",
   "execution_count": 7,
   "metadata": {},
   "outputs": [
    {
     "name": "stdout",
     "output_type": "stream",
     "text": [
      "False\n",
      "False\n"
     ]
    }
   ],
   "source": [
    "# Writing true/false functions\n",
    "\n",
    "#Remember: T and F are built-in Python values and can be passed around, \n",
    "    #stored in variables, and returned (just like #'s or strings)\n",
    "    \n",
    "#Example fxn to determine whether or not a DNA seq is AT-rich (at_content>0.65)\n",
    "\n",
    "def is_at_rich(dna):\n",
    "    length = len(dna)\n",
    "    a_count = dna.upper().count('A')\n",
    "    t_count = dna.upper().count('T')\n",
    "    at_content = (a_count + t_count) / length\n",
    "    if at_content > 0.65:\n",
    "        return True\n",
    "    else:\n",
    "        return False\n",
    "    \n",
    "print(is_at_rich(\"ATTATCTACTA\"))\n",
    "print(is_at_rich(\"CGGCAGCGCT\"))\n",
    "\n",
    "#output shows a conditional return of True or False\n",
    "    #use the function in an if statement\n",
    "    #can also evaluate condition and return result immediately\n",
    "    \n",
    "def is_at_rich(dna):\n",
    "    length = len(dna)\n",
    "    a_count = dna.upper().count('A')\n",
    "    t_count = dna.upper().count('T')\n",
    "    at_content = (a_count + t_count) / length\n",
    "    return at_content > 0.65"
   ]
  },
  {
   "cell_type": "code",
   "execution_count": null,
   "metadata": {
    "collapsed": true
   },
   "outputs": [],
   "source": []
  }
 ],
 "metadata": {
  "kernelspec": {
   "display_name": "Python 2",
   "language": "python",
   "name": "python2"
  },
  "language_info": {
   "codemirror_mode": {
    "name": "ipython",
    "version": 2
   },
   "file_extension": ".py",
   "mimetype": "text/x-python",
   "name": "python",
   "nbconvert_exporter": "python",
   "pygments_lexer": "ipython2",
   "version": "2.7.14"
  }
 },
 "nbformat": 4,
 "nbformat_minor": 2
}
