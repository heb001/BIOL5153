{
 "cells": [
  {
   "cell_type": "code",
   "execution_count": 1,
   "metadata": {},
   "outputs": [
    {
     "name": "stdout",
     "output_type": "stream",
     "text": [
      "ACTGATCGATTACGTATAGTATTTGCTATCATACATATATATCGATGCGTTCAT\n",
      "length: 54\n",
      "A_count: 16\n",
      "T_count: 21\n",
      "AT content is: 0.685185185185\n"
     ]
    }
   ],
   "source": [
    "#ch2_ex1 answer\n",
    "\n",
    "#header required to calculate decimals in Python2 \n",
    "    #otherwise AT content will read as 0\n",
    "from __future__ import division\n",
    "\n",
    "#define variable for sequence of interest\n",
    "ch2_ex1 = \"ACTGATCGATTACGTATAGTATTTGCTATCATACATATATATCGATGCGTTCAT\"\n",
    "\n",
    "#test print the variable to the screen\n",
    "print(ch2_ex1)\n",
    "\n",
    "#set variables for a_count, t_count and length of dna\n",
    "A_count = ch2_ex1.count('A')\n",
    "T_count = ch2_ex1.count('T')\n",
    "length = len(ch2_ex1)\n",
    "\n",
    "#print variables to screen\n",
    "print(\"length: \" + str(length))\n",
    "print(\"A_count: \" + str(A_count))\n",
    "print(\"T_count: \" + str(T_count))\n",
    "\n",
    "#AT content = (A+T)/length\n",
    "\n",
    "#set AT_content variable\n",
    "AT_content = (A_count + T_count) / length\n",
    "\n",
    "#print AT_content calculation to screen\n",
    "print(\"AT content is: \" + str(AT_content))"
   ]
  },
  {
   "cell_type": "code",
   "execution_count": 2,
   "metadata": {},
   "outputs": [
    {
     "name": "stdout",
     "output_type": "stream",
     "text": [
      "tCTGtTCGtTTtCGTtTtGTtTTTGCTtTCtTtCtTtTtTtTCGtTGCGTTCtT\n",
      "tgTGtTgGtTTtgGTtTtGTtTTTGgTtTgtTtgtTtTtTtTgGtTGgGTTgtT\n",
      "tgaGtagGtaatgGatatGataaaGgatagtatgtatatatagGtaGgGaagta\n",
      "tgactagctaatgcatatcataaacgatagtatgtatatatagctacgcaagta\n",
      "TGACTAGCTAATGCATATCATAAACGATAGTATGTATATATAGCTACGCAAGTA\n",
      "ACTGATCGATTACGTATAGTATTTGCTATCATACATATATATCGATGCGTTCAT\n"
     ]
    }
   ],
   "source": [
    "#ch2_ex2 answer\n",
    "\n",
    "#write a program that will print the complement of\"ACTGATCGATTACGTATAGTATTTGCTATCATACATATATATCGATGCGTTCAT\"\n",
    "#assign string the variable \"ch2_ex2\"\n",
    "\n",
    "ch2_ex2 = \"ACTGATCGATTACGTATAGTATTTGCTATCATACATATATATCGATGCGTTCAT\"\n",
    "\n",
    "#Use .replace to change each base to its compliment\n",
    "#Note: this method is case-sensitive -- use consecutive lower case letters to avoid re-replacing bases\n",
    "    #ie. \"print(test_DNA.replace(\"A\", \"T\").replace(\"T\", \"A\"))\" will revert the original A --> T\n",
    "\n",
    "cb_replacement1 = ch2_ex2.replace(\"A\", \"t\")\n",
    "print(cb_replacement1)\n",
    "\n",
    "cb_replacement2 = cb_replacement1.replace(\"C\", \"g\")\n",
    "print(cb_replacement2)\n",
    "\n",
    "cb_replacement3 = cb_replacement2.replace(\"T\", \"a\")\n",
    "print(cb_replacement3)\n",
    "\n",
    "cb_replacement4 = cb_replacement3.replace(\"G\", \"c\")\n",
    "print(cb_replacement4)\n",
    "\n",
    "#the above commands should yield a sequence in all lowercase letters -- use the upper command\n",
    "#print original ch2_ex2 sequence below to check that the complement is correct\n",
    "\n",
    "print(cb_replacement4.upper())\n",
    "print(ch2_ex2)"
   ]
  },
  {
   "cell_type": "code",
   "execution_count": 3,
   "metadata": {},
   "outputs": [
    {
     "name": "stdout",
     "output_type": "stream",
     "text": [
      "ACTGATCGATTACGTATAGTAGAATTCTATCATACATATATATCGATGCGTTCAT\n",
      "22\n",
      "AATTC\n",
      "ACTGATCGATTACGTATAGTAG\n",
      "AATTCTATCATACATATATATCGATGCGTTCAT\n",
      "The length of the first fragment is: 22\n",
      "The length of the second fragment is: 33\n"
     ]
    }
   ],
   "source": [
    "#ch2_ex3 answer\n",
    "\n",
    "#write a program that will calculate the size of the two fragments that will be produced\n",
    "#when the given DNA seq is cut by EcoRI (AATTC)\n",
    "    #DNA seq = \"ACTGATCGATTACGTATAGTAGAATTCTATCATACATATATATCGATGCGTTCAT\"\n",
    "\n",
    "#assign string the variable \"ch2_ex3\"\n",
    "ch2_ex3 = \"ACTGATCGATTACGTATAGTAGAATTCTATCATACATATATATCGATGCGTTCAT\"\n",
    "\n",
    "#print sequence to screen for reference\n",
    "print(ch2_ex3)\n",
    "\n",
    "#find the EcoRI cut site\n",
    "print(str(ch2_ex3.find('AATTC')))\n",
    "\n",
    "#find return is 22 = [22-26]\n",
    "\n",
    "#extract part of the string by using square brackets [A:B] \n",
    "    #note: start is inclusive, stop is exclusive\n",
    "print(ch2_ex3[22:27])\n",
    "\n",
    "#the EcoRI site is located between 22-26; print length of substring [0:22] and [22:55]\n",
    "#assign first substring [before cut] variable \"string1\"\n",
    "string1 = ch2_ex3[0:22]\n",
    "print(string1)\n",
    "\n",
    "#assign second substring [after cut] variable \"string2\"\n",
    "string2 = ch2_ex3[22:55]\n",
    "print(string2)\n",
    "\n",
    "#assign each length calculation a variable; print the length of each fragment to the screen\n",
    "length1 = len(string1)\n",
    "print(\"The length of the first fragment is: \" + str(length1))\n",
    "\n",
    "length2 = len(string2)\n",
    "print(\"The length of the second fragment is: \" + str(length2))"
   ]
  },
  {
   "cell_type": "code",
   "execution_count": 4,
   "metadata": {},
   "outputs": [
    {
     "name": "stdout",
     "output_type": "stream",
     "text": [
      "The length of genomic DNA is: 123\n",
      "exon 1 is: ATCGATCGATCGATCGACTGACTAGTCATAGCTATGCATGTAGCTACTCGATCGATCGATCG\n",
      "exon 2 is: ATCATCGATCGATATCGATGCATCGACTACTAT\n",
      "entire coding region is: ATCGATCGATCGATCGACTGACTAGTCATAGCTATGCATGTAGCTACTCGATCGATCGATCGATCATCGATCGATATCGATGCATCGACTACTAT\n"
     ]
    }
   ],
   "source": [
    "#ch2_ex4 answer: splicing out introns, part one\n",
    "\n",
    "#write a program that will print just the coding regions of the DNA seq.\n",
    "#two exons and an intron \n",
    "    #exon 1 [0:62] \"start - 63rd character\" \n",
    "    #exon 2 [90:end?] \"91st character - end\"\n",
    "\n",
    "#assign string the variable \"ch2_ex4\"\n",
    "ch2_ex4 = \"ATCGATCGATCGATCGACTGACTAGTCATAGCTATGCATGTAGCTACTCGATCGATCGATCGATCGATCGATCGATCGATCGATCATGCTATCATCGATCGATATCGATGCATCGACTACTAT\"\n",
    "\n",
    "#find length of ch2_ex4\n",
    "gDNA_length = len(ch2_ex4)\n",
    "print(\"The length of genomic DNA is: \" + str(gDNA_length))\n",
    "\n",
    "#length returned 123 --> exon 2 [90:124]\n",
    "\n",
    "#print coding regions [2 exons] of DNA\n",
    "exon1 = ch2_ex4[0:62]\n",
    "print(\"exon 1 is: \" + str(exon1))\n",
    "\n",
    "exon2 = ch2_ex4[90:124]\n",
    "print(\"exon 2 is: \" + str(exon2))\n",
    "\n",
    "#print the two exons together\n",
    "print(\"entire coding region is: \" + str(exon1 + exon2))"
   ]
  },
  {
   "cell_type": "code",
   "execution_count": 5,
   "metadata": {},
   "outputs": [
    {
     "name": "stdout",
     "output_type": "stream",
     "text": [
      "The length of genomic DNA is: 123\n",
      "The length of the coding region is: 95\n",
      "Proportion of coding DNA in sequence is: 0.772357723577\n",
      "Percentage of coding DNA in sequence is: 77.2357723577\n"
     ]
    }
   ],
   "source": [
    "#ch2_ex5 answer: splicing out introns, part two\n",
    "\n",
    "#using the data from part one, write a program that will calculate what\n",
    "    # percentage of the DNA sequence is coding\n",
    "\n",
    "#header for python 2 calculations\n",
    "from __future__ import division\n",
    "\n",
    "#total length of genomic DNA\n",
    "gDNA_length = len(ch2_ex4)\n",
    "print(\"The length of genomic DNA is: \" + str(gDNA_length))\n",
    "\n",
    "#output is 123nt\n",
    "\n",
    "#length of coding regions\n",
    "cr_length = len(exon1 + exon2)\n",
    "print(\"The length of the coding region is: \" + str(cr_length))\n",
    "\n",
    "#calculate percent of coding dna: cr_length/gDNA_length\n",
    "#assign \"percent_coding\" variable to equation above; print to screen\n",
    "percent_coding = cr_length / gDNA_length\n",
    "print(\"Proportion of coding DNA in sequence is: \" + str(percent_coding))\n",
    "\n",
    "#multiply decimal by 100 to get percentage\n",
    "print(\"Percentage of coding DNA in sequence is: \" + str(100 * percent_coding))"
   ]
  },
  {
   "cell_type": "code",
   "execution_count": 6,
   "metadata": {},
   "outputs": [
    {
     "name": "stdout",
     "output_type": "stream",
     "text": [
      "The intronic region is: ATCGATCGATCGATCGATCGATCATGCT\n",
      "lower-case: atcgatcgatcgatcgatcgatcatgct\n",
      "genomic DNA seq: ATCGATCGATCGATCGACTGACTAGTCATAGCTATGCATGTAGCTACTCGATCGATCGATCGatcgatcgatcgatcgatcgatcatgctATCATCGATCGATATCGATGCATCGACTACTAT\n",
      "length: 123\n",
      "original gDNA seq: ATCGATCGATCGATCGACTGACTAGTCATAGCTATGCATGTAGCTACTCGATCGATCGATCGATCGATCGATCGATCGATCGATCATGCTATCATCGATCGATATCGATGCATCGACTACTAT\n",
      "original gDNA length: 123\n"
     ]
    }
   ],
   "source": [
    "#ch2_ex6 answer: splicing out introns, part 3\n",
    "\n",
    "#using the data from part one, write a program that will print out the\n",
    "    # original genomic DNA seq with coding bases un uppercase and \n",
    "    # non-coding bases in lowercase.\n",
    "\n",
    "#reminder: exon1 [0:62], intron [61:91], exon2 [90:124]\n",
    "#exon1 = ch2_ex4[0:62]\n",
    "#exon2 = ch2_ex4[90:124]\n",
    "\n",
    "#assign intronic region to \"intron\" variable; print to screen\n",
    "intron = ch2_ex4[62:90]\n",
    "print(\"The intronic region is: \" + str(intron))\n",
    "\n",
    "#use .lower to make intron region lower-case\n",
    "intron_lower = intron.lower()\n",
    "print(\"lower-case: \" + str(intron_lower))\n",
    "\n",
    "#print a string containing two upper-case exons and the one lower-case intron\n",
    "print(\"genomic DNA seq: \" + str(exon1 + intron_lower + exon2))\n",
    "test_length = len(exon1 + intron_lower + exon2)\n",
    "print(\"length: \" + str(test_length))\n",
    "\n",
    "#print original DNA seq for comparison; print length to screen\n",
    "print(\"original gDNA seq: \" + str(ch2_ex4))\n",
    "#gDNA_length = len(ch2_ex4)\n",
    "print(\"original gDNA length: \" + str(gDNA_length))"
   ]
  },
  {
   "cell_type": "code",
   "execution_count": null,
   "metadata": {
    "collapsed": true
   },
   "outputs": [],
   "source": []
  }
 ],
 "metadata": {
  "kernelspec": {
   "display_name": "Python 2",
   "language": "python",
   "name": "python2"
  },
  "language_info": {
   "codemirror_mode": {
    "name": "ipython",
    "version": 2
   },
   "file_extension": ".py",
   "mimetype": "text/x-python",
   "name": "python",
   "nbconvert_exporter": "python",
   "pygments_lexer": "ipython2",
   "version": "2.7.14"
  }
 },
 "nbformat": 4,
 "nbformat_minor": 2
}
