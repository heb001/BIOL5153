{
 "cells": [
  {
   "cell_type": "code",
   "execution_count": 1,
   "metadata": {},
   "outputs": [
    {
     "name": "stdout",
     "output_type": "stream",
     "text": [
      "count is 0 forAAA\n",
      "count is 0 forAAT\n",
      "count is 0 forAAG\n",
      "count is 0 forAAC\n",
      "count is 0 forATA\n",
      "count is 0 forATT\n",
      "count is 0 forATG\n",
      "count is 3 forATC\n",
      "count is 0 forAGA\n",
      "count is 0 forAGT\n",
      "count is 0 forAGG\n",
      "count is 0 forAGC\n",
      "count is 0 forACA\n",
      "count is 0 forACT\n",
      "count is 1 forACG\n",
      "count is 0 forACC\n",
      "count is 0 forTAA\n",
      "count is 0 forTAT\n",
      "count is 0 forTAG\n",
      "count is 1 forTAC\n",
      "count is 0 forTTA\n",
      "count is 0 forTTT\n",
      "count is 0 forTTG\n",
      "count is 0 forTTC\n",
      "count is 1 forTGA\n",
      "count is 0 forTGT\n",
      "count is 0 forTGG\n",
      "count is 0 forTGC\n",
      "count is 0 forTCA\n",
      "count is 0 forTCT\n",
      "count is 3 forTCG\n",
      "count is 0 forTCC\n",
      "count is 0 forGAA\n",
      "count is 2 forGAT\n",
      "count is 0 forGAG\n",
      "count is 0 forGAC\n",
      "count is 1 forGTA\n",
      "count is 0 forGTT\n",
      "count is 0 forGTG\n",
      "count is 0 forGTC\n",
      "count is 0 forGGA\n",
      "count is 0 forGGT\n",
      "count is 0 forGGG\n",
      "count is 0 forGGC\n",
      "count is 0 forGCA\n",
      "count is 1 forGCT\n",
      "count is 0 forGCG\n",
      "count is 0 forGCC\n",
      "count is 0 forCAA\n",
      "count is 0 forCAT\n",
      "count is 0 forCAG\n",
      "count is 0 forCAC\n",
      "count is 0 forCTA\n",
      "count is 0 forCTT\n",
      "count is 1 forCTG\n",
      "count is 0 forCTC\n",
      "count is 2 forCGA\n",
      "count is 1 forCGT\n",
      "count is 0 forCGG\n",
      "count is 1 forCGC\n",
      "count is 0 forCCA\n",
      "count is 0 forCCT\n",
      "count is 0 forCCG\n",
      "count is 0 forCCC\n",
      "[0, 0, 0, 0, 0, 0, 0, 3, 0, 0, 0, 0, 0, 0, 1, 0, 0, 0, 0, 1, 0, 0, 0, 0, 1, 0, 0, 0, 0, 0, 3, 0, 0, 2, 0, 0, 1, 0, 0, 0, 0, 0, 0, 0, 0, 1, 0, 0, 0, 0, 0, 0, 0, 0, 1, 0, 2, 1, 0, 1, 0, 0, 0, 0]\n"
     ]
    }
   ],
   "source": [
    "#Chapter 8: Dictionaries\n",
    "    #Remember how to count the number of A's in a DNA sequence\n",
    "    #dna = \"ATCGATCGATCGTACGCTGA\"\n",
    "    #a_count = dna.count(\"A\")\n",
    "    #To generate a complete list of base counts for the sequence, add a \n",
    "        #new variable for each base\n",
    "    #a_count = dna.count(\"A\")\n",
    "    #t_count = dna.count(\"T\")\n",
    "    #g_count = dna.count(\"G\")\n",
    "    #c_count = dna.count(\"C\")\n",
    "\n",
    "#Store values in a list with nested loops\n",
    "dna = \"ATCGATCGATCGTACGCTGA\"\n",
    "all_counts = []\n",
    "for base1 in ['A', 'T', 'G', 'C']:\n",
    "    for base2 in ['A', 'T', 'G', 'C']:\n",
    "        for base3 in ['A', 'T', 'G', 'C']:\n",
    "            trinucleotide = base1 + base2 + base3\n",
    "            count = dna.count(trinucleotide)\n",
    "            print(\"count is \" + str(count) + \" for\" + trinucleotide)\n",
    "            all_counts.append(count)\n",
    "print(all_counts)"
   ]
  },
  {
   "cell_type": "code",
   "execution_count": 2,
   "metadata": {},
   "outputs": [
    {
     "name": "stdout",
     "output_type": "stream",
     "text": [
      "count for TGA is 1\n"
     ]
    }
   ],
   "source": [
    "#Two problems with this approach: \n",
    "    #data is sparse (majority of the count is 0)\n",
    "    #counts are disconnected from the trinucleotides\n",
    "print(\"count for TGA is \" + str(all_counts[24]))"
   ]
  },
  {
   "cell_type": "code",
   "execution_count": 3,
   "metadata": {},
   "outputs": [
    {
     "name": "stdout",
     "output_type": "stream",
     "text": [
      "[0, 0, 0, 0, 0, 0, 0, 3, 0, 0, 0, 0, 0, 0, 1, 0, 0, 0, 0, 1, 0, 0, 0, 0, 1, 0, 0, 0, 0, 0, 3, 0, 0, 2, 0, 0, 1, 0, 0, 0, 0, 0, 0, 0, 0, 1, 0, 0, 0, 0, 0, 0, 0, 0, 1, 0, 2, 1, 0, 1, 0, 0, 0, 0]\n",
      "['AAA', 'AAT', 'AAG', 'AAC', 'ATA', 'ATT', 'ATG', 'ATC', 'AGA', 'AGT', 'AGG', 'AGC', 'ACA', 'ACT', 'ACG', 'ACC', 'TAA', 'TAT', 'TAG', 'TAC', 'TTA', 'TTT', 'TTG', 'TTC', 'TGA', 'TGT', 'TGG', 'TGC', 'TCA', 'TCT', 'TCG', 'TCC', 'GAA', 'GAT', 'GAG', 'GAC', 'GTA', 'GTT', 'GTG', 'GTC', 'GGA', 'GGT', 'GGG', 'GGC', 'GCA', 'GCT', 'GCG', 'GCC', 'CAA', 'CAT', 'CAG', 'CAC', 'CTA', 'CTT', 'CTG', 'CTC', 'CGA', 'CGT', 'CGG', 'CGC', 'CCA', 'CCT', 'CCG', 'CCC']\n",
      "count for TGA is 1\n"
     ]
    }
   ],
   "source": [
    "#You could generate two lists, one for counts and one for trinucleotides\n",
    "dna = \"ATCGATCGATCGTACGCTGA\"\n",
    "all_trinucleotides = []\n",
    "all_counts = []\n",
    "for base1 in ['A', 'T', 'G', 'C']:\n",
    "    for base2 in ['A', 'T', 'G', 'C']:\n",
    "        for base3 in ['A', 'T', 'G', 'C']:\n",
    "            trinucleotide = base1 + base2 + base3\n",
    "            count = dna.count(trinucleotide)\n",
    "            all_trinucleotides.append(trinucleotide)\n",
    "            all_counts.append(count)\n",
    "print(all_counts)\n",
    "print(all_trinucleotides)\n",
    "#This will grant two lists of the same length with a one-to-one correspondence\n",
    "    #between elements.\n",
    "    #Allowing us to look up the count for a given trinucleotide in an easier fashion\n",
    "\n",
    "#Look up the index of the trinucleotide in the all_trinucleotides list and\n",
    "#then get the count at the same index in the all_counts list\n",
    "\n",
    "i = all_trinucleotides.index('TGA')\n",
    "c = all_counts[i]\n",
    "print('count for TGA is ' + str(c))"
   ]
  },
  {
   "cell_type": "code",
   "execution_count": 5,
   "metadata": {
    "collapsed": true
   },
   "outputs": [],
   "source": [
    "#Problems with two list & index method: storing zeros and now have to keep\n",
    "    #track of two separate lists which might not remain synchronized\n",
    "\n",
    "#Things you could store in Python: protein sequence names and their sequences,\n",
    "    #DNA restriction enzyme names and their motifs\n",
    "    #codons and their associated amino acid residues\n",
    "    #sample names and their co-ordinates\n",
    "\n",
    "#Key-value pairs in DICTIONARIES (dict)"
   ]
  },
  {
   "cell_type": "code",
   "execution_count": 6,
   "metadata": {},
   "outputs": [
    {
     "name": "stdout",
     "output_type": "stream",
     "text": [
      "GC[ATGC]GC\n"
     ]
    }
   ],
   "source": [
    "#Creating a Dictionary\n",
    "    #syntax is similar to creating a list but use {} instead of []\n",
    "    #item = pair of data (consisting of the key and value)\n",
    "    #separate items by a comma when storing in a dictionary\n",
    "    #within a single item - separate key and value with a colon\n",
    "\n",
    "enzymes = {'EcoRI':r'GAATTC', 'AvaII':r'GG(A|T)CC', 'BisI':'GC[ATGC]GC'}\n",
    "\n",
    "#Here, keys and values are both strings\n",
    "#You can also split the dictionary definitions over several lines\n",
    "    #items must still be separated by commas\n",
    "\n",
    "enzymes = {\n",
    "    'EcoRI' : r'GAATTC',\n",
    "    'AvaII' : r'GG(A|T)CC',\n",
    "    'BisI' : r'GC[ATGC]GC'\n",
    "}\n",
    "\n",
    "#To retrieve data from the dictionary -- print the name of the dictionary \n",
    "    #followed by the key in[]\n",
    "\n",
    "print(enzymes['BisI'])"
   ]
  },
  {
   "cell_type": "code",
   "execution_count": 7,
   "metadata": {},
   "outputs": [
    {
     "data": {
      "text/plain": [
       "'GAATTC'"
      ]
     },
     "execution_count": 7,
     "metadata": {},
     "output_type": "execute_result"
    }
   ],
   "source": [
    "#Dictionaries are useful for storing information but come with restrictions\n",
    "    #can only use strings and numerical data as a key -- no objects\n",
    "        #values can be anything\n",
    "    #keys must be unique!\n",
    "#Create an empty dictionary and then add key-value pairs to it\n",
    "    #write {} then add elements by []\n",
    "\n",
    "enzymes = {}\n",
    "enzymes['EcoRI'] = r'GAATTC'\n",
    "enzymes['AvaII'] = r'GG(A|T)CC'\n",
    "enzymes['BisI'] = r'GC[ATGC]GC'\n",
    "\n",
    "#Delete a key from a dicitonary using pop method -- return the value and deletes the key simultaneously\n",
    "\n",
    "enzymes.pop('EcoRI')"
   ]
  },
  {
   "cell_type": "code",
   "execution_count": 8,
   "metadata": {},
   "outputs": [
    {
     "name": "stdout",
     "output_type": "stream",
     "text": [
      "{'ATG': 1, 'ACG': 1, 'ATC': 2, 'GTA': 1, 'CTG': 1, 'CGC': 1, 'GAT': 2, 'CGA': 1, 'AAT': 1, 'TGA': 2, 'GCT': 1, 'TAC': 1, 'TCG': 2, 'CGT': 1}\n"
     ]
    }
   ],
   "source": [
    "#Avoid storing all zeroes in trinucleotide count by adding an if statement\n",
    "\n",
    "dna = \"AATGATCGATCGTACGCTGA\"\n",
    "counts = {}\n",
    "for base1 in ['A', 'T', 'G', 'C']:\n",
    "    for base2 in ['A', 'T', 'G', 'C']:\n",
    "        for base3 in ['A', 'T', 'G', 'C']:\n",
    "            trinucleotide = base1 + base2 + base3\n",
    "            count = dna.count(trinucleotide)\n",
    "            if count > 0:\n",
    "                counts[trinucleotide] = count\n",
    "print(counts)"
   ]
  },
  {
   "cell_type": "code",
   "execution_count": 9,
   "metadata": {},
   "outputs": [
    {
     "name": "stdout",
     "output_type": "stream",
     "text": [
      "2\n",
      "2\n",
      "count for TGA is 2\n",
      "count for AAA is 0\n",
      "count for GTA is 1\n",
      "count for TTT is 0\n"
     ]
    }
   ],
   "source": [
    "#New problem: when the count is zero the trinucleotide does not appear as a key in the dict\n",
    "    #If you try to look it up you will get a KeyError\n",
    "\n",
    "#Fix by checking for the existence of a key in the dict\n",
    "\n",
    "if 'AAA' in counts:\n",
    "    print(counts('AAA'))\n",
    "\n",
    "#Or use the dict's get method -- can take a secondary argument that prints if key does not exist\n",
    "\n",
    "print(counts['TGA'])\n",
    "print(counts.get('TGA'))\n",
    "\n",
    "print(\"count for TGA is \" + str(counts.get('TGA', 0)))\n",
    "print(\"count for AAA is \" + str(counts.get('AAA',0)))\n",
    "print(\"count for GTA is \" + str(counts.get('GTA', 0)))\n",
    "print(\"count for TTT is \" + str(counts.get('TTT', 0)))"
   ]
  },
  {
   "cell_type": "code",
   "execution_count": 10,
   "metadata": {},
   "outputs": [
    {
     "name": "stdout",
     "output_type": "stream",
     "text": [
      "ATC\n",
      "TGA\n",
      "TCG\n",
      "GAT\n"
     ]
    }
   ],
   "source": [
    "#Iterating Over A Dictionary\n",
    "    #If you want to do something for all items in the dict instead of just one,\n",
    "        #use nested loops to generate all possible trinucleotides \n",
    "            #look up the count for each one and decide whether to print it\n",
    "\n",
    "for base1 in ['A', 'T', 'G', 'C']:\n",
    "    for base2 in ['A', 'T', 'G', 'C']:\n",
    "        for base3 in ['A', 'T', 'G', 'C']:\n",
    "            trinucleotide = base1 + base2 + base3\n",
    "            if counts.get(trinucleotide, 0) == 2:\n",
    "                print(trinucleotide)\n",
    "\n",
    "#Works, but is inefficient -- better approach: read the list of keys from\n",
    "    #the dict with the keys method"
   ]
  },
  {
   "cell_type": "code",
   "execution_count": 11,
   "metadata": {},
   "outputs": [
    {
     "name": "stdout",
     "output_type": "stream",
     "text": [
      "['ATG', 'ACG', 'ATC', 'GTA', 'CTG', 'CGC', 'GAT', 'CGA', 'AAT', 'TGA', 'GCT', 'TAC', 'TCG', 'CGT']\n",
      "ATC\n",
      "GAT\n",
      "TGA\n",
      "TCG\n",
      "ATC\n",
      "GAT\n",
      "TCG\n",
      "TGA\n"
     ]
    }
   ],
   "source": [
    "#Iterating Over Keys\n",
    "    #keys method will return a list of all keys in a dictionary\n",
    "\n",
    "dna = \"AATGATCGATCGTACGCTGA\"\n",
    "counts = {}\n",
    "for base1 in ['A', 'T', 'G', 'C']:\n",
    "    for base2 in ['A', 'T', 'G', 'C']:\n",
    "        for base3 in ['A', 'T', 'G', 'C']:\n",
    "            trinucleotide = base1 + base2 + base3\n",
    "            count = dna.count(trinucleotide)\n",
    "            if count > 0:\n",
    "                counts[trinucleotide] = count\n",
    "    \n",
    "print(counts.keys())\n",
    "\n",
    "#code for printing out all trinucleotides that appear twice can now become\n",
    "    #more concise\n",
    "\n",
    "for trinucleotide in counts.keys():\n",
    "    if counts.get(trinucleotide) == 2:\n",
    "        print(trinucleotide)\n",
    "\n",
    "#Note: while the set of trinucleotides is the same, the order is different\n",
    "    #DICTIONARIES ARE UNORDERED\n",
    "    #using keys method to iterate over a dictionary will not reliably\n",
    "        #process items in the same order by which they are added\n",
    "\n",
    "#Control the order in which keys are printed by the sorted method\n",
    "    #will sort the list before processing it\n",
    "\n",
    "for trinucleotide in sorted(counts.keys()):\n",
    "    if counts.get(trinucleotide) == 2:\n",
    "        print(trinucleotide)"
   ]
  },
  {
   "cell_type": "code",
   "execution_count": 12,
   "metadata": {},
   "outputs": [
    {
     "name": "stdout",
     "output_type": "stream",
     "text": [
      "ATC\n",
      "GAT\n",
      "TGA\n",
      "TCG\n"
     ]
    }
   ],
   "source": [
    "#Iterating Over Items\n",
    "    #Use the items method to return a list of pairs of values\n",
    "        #must give two variable names at the start of the loop\n",
    "\n",
    "for trinucleotide, count in counts.items():\n",
    "    if count == 2:\n",
    "        print(trinucleotide)"
   ]
  },
  {
   "cell_type": "code",
   "execution_count": null,
   "metadata": {
    "collapsed": true
   },
   "outputs": [],
   "source": []
  }
 ],
 "metadata": {
  "kernelspec": {
   "display_name": "Python 2",
   "language": "python",
   "name": "python2"
  },
  "language_info": {
   "codemirror_mode": {
    "name": "ipython",
    "version": 2
   },
   "file_extension": ".py",
   "mimetype": "text/x-python",
   "name": "python",
   "nbconvert_exporter": "python",
   "pygments_lexer": "ipython2",
   "version": "2.7.14"
  }
 },
 "nbformat": 4,
 "nbformat_minor": 2
}
